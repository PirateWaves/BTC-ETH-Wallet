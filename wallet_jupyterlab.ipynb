{
 "cells": [
  {
   "cell_type": "code",
   "execution_count": 85,
   "metadata": {},
   "outputs": [],
   "source": [
    "import subprocess\n",
    "import json\n",
    "import os\n",
    "\n",
    "from constants import *\n",
    "from web3 import Web3\n",
    "from dotenv import load_dotenv\n",
    "from web3.middleware import geth_poa_middleware\n",
    "from web3.gas_strategies.time_based import medium_gas_price_strategy\n",
    "from eth_account import Account\n",
    "from pathlib import Path\n",
    "from getpass import getpass\n",
    "from constants import *\n",
    "load_dotenv()\n",
    "from bit import *\n",
    "from bit import Key\n",
    "from bit import PrivateKeyTestnet\n",
    "from bit.network import NetworkAPI"
   ]
  },
  {
   "cell_type": "code",
   "execution_count": 86,
   "metadata": {},
   "outputs": [],
   "source": [
    "#Initiate Web3 object\n",
    "web3 = Web3(Web3.HTTPProvider(\"http://127.0.0.1:8545\"))\n",
    "web3.middleware_onion.inject(geth_poa_middleware, layer=0)\n",
    "web3.eth.setGasPriceStrategy(medium_gas_price_strategy)"
   ]
  },
  {
   "cell_type": "code",
   "execution_count": 87,
   "metadata": {},
   "outputs": [
    {
     "name": "stdout",
     "output_type": "stream",
     "text": [
      "True\n"
     ]
    }
   ],
   "source": [
    "print(web3.isConnected())"
   ]
  },
  {
   "cell_type": "code",
   "execution_count": 88,
   "metadata": {},
   "outputs": [
    {
     "name": "stdout",
     "output_type": "stream",
     "text": [
      "118\n"
     ]
    }
   ],
   "source": [
    "print(web3.eth.blockNumber)"
   ]
  },
  {
   "cell_type": "code",
   "execution_count": 8,
   "metadata": {},
   "outputs": [
    {
     "name": "stdout",
     "output_type": "stream",
     "text": [
      "welcome speak kite beef best favorite initial assault tray enact occur report topic citizen ecology\n"
     ]
    }
   ],
   "source": [
    "#Set as an Environment Variable at first\n",
    "mnemonic = os.getenv('MNEMONIC')\n",
    "print(mnemonic)"
   ]
  },
  {
   "cell_type": "code",
   "execution_count": 9,
   "metadata": {},
   "outputs": [],
   "source": [
    "def derive_wallets(mnem,coinname,num):\n",
    "    command = './derive -g --mnemonic=\"'+str(mnem)+'\" --numderive=\"\"'+str(num)+'\"\" --coin=\"\"'+str(coinname)+'\"\" --format=jsonpretty'\n",
    "    p = subprocess.Popen(command,stdout=subprocess.PIPE,shell=True)\n",
    "    (output, err) = p.communicate()\n",
    "    return json.loads(output)"
   ]
  },
  {
   "cell_type": "code",
   "execution_count": 10,
   "metadata": {},
   "outputs": [],
   "source": [
    "\n",
    "coins = {ETH:derive_wallets(mnem=mnemonic,coinname=ETH,num=3),BTCTEST: derive_wallets(mnem=mnemonic,coinname=BTCTEST,num=3)}"
   ]
  },
  {
   "cell_type": "code",
   "execution_count": 11,
   "metadata": {},
   "outputs": [
    {
     "data": {
      "text/plain": [
       "{'eth': [{'path': \"m/44'/60'/0'/0/0\",\n",
       "   'address': '0xdf460bD851a7540c70BeE83E5bA1b63410c4F220',\n",
       "   'xprv': 'xprvA464w7QMmMw46Qu6D8oqnXFqzN5h2zZi14TruAoAMas27BoHWiF5DtzV8E9jbJANQ9G7FZrLeHJV8P5Le52CgHGR86waA4b8AJkXamLiugj',\n",
       "   'xpub': 'xpub6H5RLcwFbjVMJtyZKALr9fCaYPvBSTHZNHPThZCmuvPzyz8S4FZKmhJxyXdrvW6YmE7C7jztA4xXRLnAVk1HcqsMWuzAVc1zi9MMqnBF5Lw',\n",
       "   'privkey': '0x179d74c8c264b83f5339a2c68b07136cf5501ed5b1391f9f869f8de68d8574a9',\n",
       "   'pubkey': '035adc788a729e151491238e5cde3914c8f5e1a0d07fd3f6f960320e1609573270',\n",
       "   'pubkeyhash': '7dcf5087fbb8fcb270f9a65670103bbca2cab9e7',\n",
       "   'index': 0},\n",
       "  {'path': \"m/44'/60'/0'/0/1\",\n",
       "   'address': '0xE43a083A830A8fFc70BeCC64e9A54369F83a3Ae8',\n",
       "   'xprv': 'xprvA464w7QMmMw47wdFdjrGYSknKgvobkVTgCUGzYr4VUWkdcHS1oHpHhzQYaaJLoFp9FWzU3jXGw8XrK7jgPeCtiprfuiYnmoKe7pT4Tetk3f',\n",
       "   'xpub': 'xpub6H5RLcwFbjVMLRhijmPGuahWsimJ1DDK3RPsnwFg3p3jWQcaZLc4qWJtProXuKWrbEJNZbsN4fcaMqLdYBfFDfiJuP5mXMFwZ3qXCxLfEPj',\n",
       "   'privkey': '0xff6d5164d04dc008c1e6b3d7aa84dbfd5d22a983b0def61c4d2fe75236055552',\n",
       "   'pubkey': '039d29602f2e5a5737e1f1d91e53c8ac4b9177e69460f8188b5b5e680126359300',\n",
       "   'pubkeyhash': '13e6ce8747e83328849d1816baa2c8db507d6d85',\n",
       "   'index': 1},\n",
       "  {'path': \"m/44'/60'/0'/0/2\",\n",
       "   'address': '0xA99f8B8D0173eCcb91E57547f0Dd57D7c172D3F5',\n",
       "   'xprv': 'xprvA464w7QMmMw4ARVSr2WZMnG15WeUbRGQhMY2VhmgLnoZUAFzttJi9N7zg654waSRAtkkgVt2ETJC7ChTic62JxPgLdKCbzcXrGd8KppTnoB',\n",
       "   'xpub': 'xpub6H5RLcwFbjVMNuZux43ZivCjdYUxzszG4aTdJ6BHu8LYLxb9SRcxhASUXM19LiTjRykSmQ18HCgV98sXRAXjRu3VQNdMjQJ7jNFAQrih8Sf',\n",
       "   'privkey': '0xdc273a2a842551ea86c2e622a9040566ea988a58a511115451918bf579178917',\n",
       "   'pubkey': '02cf3b842b1fbb342bf244e8ae288ce887d026e4833b10366d7bd8cdc861dc547c',\n",
       "   'pubkeyhash': '762a6fd126c04e6898bc36f94bed97dbc3d3958b',\n",
       "   'index': 2}],\n",
       " 'btc-test': [{'path': \"m/44'/1'/0'/0/0\",\n",
       "   'address': 'mnAc6FdZrfq7b1teSxJKo7isNzUe28ojr8',\n",
       "   'xprv': 'tprv8kESU8UkEJngkAvGCDSHpruaZsvPLMSmY9epYkgYpouG32gH8s83cL62XsZ5g6ob59w4gsRT6DESSM4CW4wkKRkZfAWyzXtBzSgCDjSrhV7',\n",
       "   'xpub': 'tpubDGvUcYWzNgUMddx45s6tEGZh8uSKVgdg7TFbqGirF5hesWw3mFwdnphti3EVaGHgN3H6jsB3uCsyxb4VsJpikFMAixLYt8cT6UorAH2VhdH',\n",
       "   'privkey': 'cN632uma7JWqDAQDQYDT9vKhqRUadAS49AgQmcH7zRu4E7uFV9ET',\n",
       "   'pubkey': '0377055fb9811cc8eafd181de6e32c83743f0bbfdb2ac7a69595ce93cf2f7d5d14',\n",
       "   'pubkeyhash': '48efb23d4878c1e1a65ce46b22c3f467478aebba',\n",
       "   'index': 0},\n",
       "  {'path': \"m/44'/1'/0'/0/1\",\n",
       "   'address': 'my52hmV9JDd4aN6zvHaPDoU4L4RFj5sQ8K',\n",
       "   'xprv': 'tprv8kESU8UkEJngn36FfaBm4bqQHxJHnb8aP5oYZKqkvkueJ9fsRFMY8Sy7eSmineCsRWTxrRXPWmo8pvS9JqGkYbXEtvdVQuxw3i4YmSs1qGF',\n",
       "   'xpub': 'tpubDGvUcYWzNgUMfW83ZDrMU1VWrypDwvKUxPQKqqt4M2i38dve3eB8Jwaypauk6yjXEwJGV1xePdd56KvFYTxksxGcRxBizkLr6MiH1Eru4FZ',\n",
       "   'privkey': 'cS9eHn489DW1zawoxi5UHmmyfTgQqNxhYuB7ngeAKpyjpicYXL4k',\n",
       "   'pubkey': '032541d2101d032e577ac003fffaac1ad9223d2056547afaabd56854fba520c9b3',\n",
       "   'pubkeyhash': 'c08b212264ce94368b2eaeea19c6278037ca6aa9',\n",
       "   'index': 1},\n",
       "  {'path': \"m/44'/1'/0'/0/2\",\n",
       "   'address': 'mzJq3uwK8QoYQZ2xxh8FNnSCcUW5SjWAZv',\n",
       "   'xprv': 'tprv8kESU8UkEJngpsEw6U3f8zVqzZrYYMgcjMq4sgzRu6ZpirKFuGvnmcv4V9wX4N1RcHP3pFVsLLbDbJJiKc9QwQPHHTtGTFgquLX2xw92Ctf',\n",
       "   'xpub': 'tpubDGvUcYWzNgUMiLGiz7iFYQ9xZbNUhgsXJfRrAD2jKNNDZLa2XfkNx7XvfHVGgiE7PoZwqa5VMimGJUQQCEPSVgHc9XKsadCGwMfJfCkEqqj',\n",
       "   'privkey': 'cQzoyXtVb4Jz4NKCuEqLQKDwB6QhJqPyaH6gnDMp3LMEqUtFYTG4',\n",
       "   'pubkey': '02b50f6fd284099ce31688f9d562e35bb81316bb0c90a7e774c05ee1a93c831f50',\n",
       "   'pubkeyhash': 'ce1f59fdce856f77621f82fc8265a84d34593d6e',\n",
       "   'index': 2}]}"
      ]
     },
     "execution_count": 11,
     "metadata": {},
     "output_type": "execute_result"
    }
   ],
   "source": [
    "coins"
   ]
  },
  {
   "cell_type": "code",
   "execution_count": 150,
   "metadata": {},
   "outputs": [],
   "source": [
    "def priv_key_to_account (coin, priv_key):\n",
    "    if coin == ETH:\n",
    "        return Account.privateKeyToAccount(priv_key)\n",
    "    if coin == BTCTEST:\n",
    "        return PrivateKeyTestnet(priv_key)"
   ]
  },
  {
   "cell_type": "code",
   "execution_count": 151,
   "metadata": {},
   "outputs": [],
   "source": [
    "def create_raw_tx(account, recipient, amount):\n",
    "    gasEstimate = web3.eth.estimateGas(\n",
    "        {\"from\": account.address, \"to\": recipient, \"value\": amount}\n",
    "    )\n",
    "    return {\n",
    "        \"from\": account.address,\n",
    "        \"to\": recipient,\n",
    "        \"value\": amount,\n",
    "        \"gasPrice\": web3.eth.gasPrice,\n",
    "        \"gas\": gasEstimate,\n",
    "        \"nonce\": web3.eth.getTransactionCount(account.address),\n",
    "    }"
   ]
  },
  {
   "cell_type": "code",
   "execution_count": 152,
   "metadata": {},
   "outputs": [],
   "source": [
    "def create_tx(coin,account,to,amount):\n",
    "    if (coin==ETH):\n",
    "        return create_raw_tx(account,to,amount)\n",
    "    else:\n",
    "        return PrivateKeyTestnet.prepare_transaction(account.address, [(to, amount, BTC)])"
   ]
  },
  {
   "cell_type": "code",
   "execution_count": 176,
   "metadata": {},
   "outputs": [],
   "source": [
    "#This is usable for POW only not POA \n",
    "def send_tx (coin, account, recipient, amount):\n",
    "    if coin =='ETH':\n",
    "        trxns_eth = create_tx(coin,account, recipient, amount)\n",
    "        sign_trxns_eth = account.sign_transaction(trxns_eth)\n",
    "        result = w3.eth.sendRawTransaction(sign_trxns_eth.rawTransaction)\n",
    "        print(result.hex())\n",
    "        return result.hex()\n",
    "    else:\n",
    "        trxns_btctest= create_tx(coin,account,recipient,amount)\n",
    "        sign_trxns_btctest = account.sign_transaction(trxns_btctest)\n",
    "        NetworkAPI.broadcast_tx_testnet(sign_trxns_btctest)       \n",
    "        return tx_hex"
   ]
  },
  {
   "cell_type": "code",
   "execution_count": 163,
   "metadata": {},
   "outputs": [],
   "source": [
    "eth_pk_acct1 = priv_key_to_account(ETH,coins['eth'][0]['privkey'])\n",
    "eth_pk_acct2 = priv_key_to_account(ETH, coins['eth'][1]['privkey'])\n",
    "eth_pk_acct3 = priv_key_to_account(ETH, coins['eth'][2]['privkey'])"
   ]
  },
  {
   "cell_type": "code",
   "execution_count": 164,
   "metadata": {},
   "outputs": [
    {
     "data": {
      "text/plain": [
       "'0xE43a083A830A8fFc70BeCC64e9A54369F83a3Ae8'"
      ]
     },
     "execution_count": 164,
     "metadata": {},
     "output_type": "execute_result"
    }
   ],
   "source": [
    "eth_pk_acct2.address"
   ]
  },
  {
   "cell_type": "code",
   "execution_count": 165,
   "metadata": {},
   "outputs": [
    {
     "data": {
      "text/plain": [
       "'0xdf460bD851a7540c70BeE83E5bA1b63410c4F220'"
      ]
     },
     "execution_count": 165,
     "metadata": {},
     "output_type": "execute_result"
    }
   ],
   "source": [
    "eth_pk_acct1.address"
   ]
  },
  {
   "cell_type": "code",
   "execution_count": 157,
   "metadata": {},
   "outputs": [],
   "source": [
    "btc_pk_acct1 = priv_key_to_account('btc-test',coins['btc-test'][0]['privkey'])\n",
    "btc_pk_acct2 = priv_key_to_account('btc-test',coins['btc-test'][1]['privkey'])"
   ]
  },
  {
   "cell_type": "code",
   "execution_count": 181,
   "metadata": {},
   "outputs": [
    {
     "data": {
      "text/plain": [
       "'my52hmV9JDd4aN6zvHaPDoU4L4RFj5sQ8K'"
      ]
     },
     "execution_count": 181,
     "metadata": {},
     "output_type": "execute_result"
    }
   ],
   "source": [
    "btc_pk_acct2.address"
   ]
  },
  {
   "cell_type": "code",
   "execution_count": null,
   "metadata": {},
   "outputs": [],
   "source": [
    "send_tx('btc-test',btc_pk_acct1, btc_pk_acct2.address,.00005)"
   ]
  },
  {
   "cell_type": "code",
   "execution_count": null,
   "metadata": {},
   "outputs": [],
   "source": [
    "# Here I was not able to transact \n",
    "\n",
    "send_tx('eth',eth_pk_acct1,'0xE43a083A830A8fFc70BeCC64e9A54369F83a3Ae8',.000002 )"
   ]
  },
  {
   "cell_type": "markdown",
   "metadata": {},
   "source": [
    "# POA - follow steps bellow for POA only due to signers and needing to run the Bit-39 wallet via your own network. "
   ]
  },
  {
   "cell_type": "code",
   "execution_count": 93,
   "metadata": {},
   "outputs": [],
   "source": [
    "balance = web3.eth.getBalance(\"0xdf460bD851a7540c70BeE83E5bA1b63410c4F220\")"
   ]
  },
  {
   "cell_type": "code",
   "execution_count": 94,
   "metadata": {},
   "outputs": [
    {
     "data": {
      "text/plain": [
       "904625697166532776746648320380374280103671755200316906518261955061821325312"
      ]
     },
     "execution_count": 94,
     "metadata": {},
     "output_type": "execute_result"
    }
   ],
   "source": [
    "balance"
   ]
  },
  {
   "cell_type": "code",
   "execution_count": 105,
   "metadata": {},
   "outputs": [],
   "source": [
    "account1 = '0xdf460bD851a7540c70BeE83E5bA1b63410c4F220'"
   ]
  },
  {
   "cell_type": "code",
   "execution_count": 106,
   "metadata": {},
   "outputs": [],
   "source": [
    "account2 = '0xE43a083A830A8fFc70BeCC64e9A54369F83a3Ae8'\n"
   ]
  },
  {
   "cell_type": "code",
   "execution_count": 116,
   "metadata": {},
   "outputs": [],
   "source": [
    "account3 = '0xA99f8B8D0173eCcb91E57547f0Dd57D7c172D3F5'"
   ]
  },
  {
   "cell_type": "code",
   "execution_count": 110,
   "metadata": {},
   "outputs": [],
   "source": [
    "privatekey = '0x179d74c8c264b83f5339a2c68b07136cf5501ed5b1391f9f869f8de68d8574a9'"
   ]
  },
  {
   "cell_type": "code",
   "execution_count": 60,
   "metadata": {},
   "outputs": [],
   "source": [
    "send_tx('btc-test',btc_pk_acct1,btc_pk_acct2.address,0.0005)"
   ]
  },
  {
   "cell_type": "code",
   "execution_count": 107,
   "metadata": {},
   "outputs": [],
   "source": [
    "nonce = web3.eth.getTransactionCount(account1)\n",
    "\n",
    "tx = {\n",
    "    'nonce': nonce,\n",
    "    'to': account2,\n",
    "    'value': web3.toWei(1, 'ether'),\n",
    "    'gas': 2000000,\n",
    "    'gasPrice': web3.toWei('50', 'gwei'),\n",
    "}"
   ]
  },
  {
   "cell_type": "code",
   "execution_count": 111,
   "metadata": {},
   "outputs": [],
   "source": [
    "signed_tx = web3.eth.account.signTransaction(tx, privatekey)"
   ]
  },
  {
   "cell_type": "code",
   "execution_count": 112,
   "metadata": {},
   "outputs": [
    {
     "name": "stdout",
     "output_type": "stream",
     "text": [
      "0x32bc4449b1c6fcbde6e419603f3e67cb06faa1e1c0e439fbb39a69824e3ca7b2\n"
     ]
    }
   ],
   "source": [
    "tx_hash = web3.eth.sendRawTransaction(signed_tx.rawTransaction)\n",
    "print(web3.toHex(tx_hash))"
   ]
  },
  {
   "cell_type": "code",
   "execution_count": 120,
   "metadata": {},
   "outputs": [],
   "source": [
    "nonce = web3.eth.getTransactionCount(account1)\n",
    "\n",
    "tx = {\n",
    "    'nonce': nonce,\n",
    "    'to': account3,\n",
    "    'value': web3.toWei(10, 'ether'),\n",
    "    'gas': 2000000,\n",
    "    'gasPrice': web3.toWei('50', 'gwei'),\n",
    "}"
   ]
  },
  {
   "cell_type": "code",
   "execution_count": 121,
   "metadata": {},
   "outputs": [],
   "source": [
    "signed_tx = web3.eth.account.signTransaction(tx, privatekey)"
   ]
  },
  {
   "cell_type": "code",
   "execution_count": 122,
   "metadata": {},
   "outputs": [
    {
     "name": "stdout",
     "output_type": "stream",
     "text": [
      "0xe531132e7b5a22398cb362199d5963bf0f88b515da3782a9950cec1c909b40bd\n"
     ]
    }
   ],
   "source": [
    "tx_hash = web3.eth.sendRawTransaction(signed_tx.rawTransaction)\n",
    "print(web3.toHex(tx_hash))"
   ]
  },
  {
   "cell_type": "code",
   "execution_count": null,
   "metadata": {},
   "outputs": [],
   "source": []
  }
 ],
 "metadata": {
  "kernelspec": {
   "display_name": "Python 3",
   "language": "python",
   "name": "python3"
  },
  "language_info": {
   "codemirror_mode": {
    "name": "ipython",
    "version": 3
   },
   "file_extension": ".py",
   "mimetype": "text/x-python",
   "name": "python",
   "nbconvert_exporter": "python",
   "pygments_lexer": "ipython3",
   "version": "3.7.4"
  }
 },
 "nbformat": 4,
 "nbformat_minor": 4
}
